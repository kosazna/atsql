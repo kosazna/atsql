{
 "cells": [
  {
   "cell_type": "code",
   "execution_count": 1,
   "source": [
    "from pathlib import Path\r\n",
    "import re\r\n",
    "from shutil import copy"
   ],
   "outputs": [],
   "metadata": {}
  },
  {
   "cell_type": "code",
   "execution_count": 2,
   "source": [
    "src = \"D:/Google Drive/Azna\\Docs/Κτηματολόγιο Κιλκίς/Γιαγιά\"\r\n",
    "dst = \"D:/.temp/copy_tests\"\r\n",
    "\r\n",
    "pattern = \"<ota@3:7><tomeas@8:9><enotita@10:11><gt@12:14>\""
   ],
   "outputs": [],
   "metadata": {}
  },
  {
   "cell_type": "code",
   "execution_count": 3,
   "source": [
    "class PatternMatcher:\r\n",
    "    def __init__(self, pattern) -> None:\r\n",
    "        self.pattern = pattern\r\n",
    "        self.regex = re.compile('<(.*?)>')\r\n",
    "        self.parts = self.regex.findall(self.pattern)\r\n",
    "        self.variables = {}\r\n",
    "        self._create_variables()\r\n",
    "\r\n",
    "    def _create_variables(self):\r\n",
    "        for part in self.parts:\r\n",
    "            var_name, idxs = part.split('@')\r\n",
    "            start_idx, end_idx = idxs.split(':')\r\n",
    "\r\n",
    "            if start_idx:\r\n",
    "                _start = int(start_idx) - 1\r\n",
    "            else:\r\n",
    "                _start = 0\r\n",
    "\r\n",
    "            if end_idx:\r\n",
    "                _end = int(end_idx)\r\n",
    "            else:\r\n",
    "                _end = None\r\n",
    "\r\n",
    "            self.variables[var_name] = {'start': _start,\r\n",
    "                                        'end': _end}\r\n",
    "\r\n",
    "    def match(self, text):\r\n",
    "        values = {}\r\n",
    "        for var in self.variables:\r\n",
    "            _var = f\"<{var}>\"\r\n",
    "            s = self.variables[var]['start']\r\n",
    "            e = self.variables[var]['end']\r\n",
    "            if e is None:\r\n",
    "                values[var] = text[s:]\r\n",
    "            else:\r\n",
    "                values[var] = text[s:e]\r\n",
    "\r\n",
    "        return values\r\n"
   ],
   "outputs": [],
   "metadata": {}
  },
  {
   "cell_type": "code",
   "execution_count": 4,
   "source": [
    "def replace_all(text, dic):\r\n",
    "    for i, j in dic.items():\r\n",
    "        text = text.replace(f\"<{i}>\", j)\r\n",
    "    return text"
   ],
   "outputs": [],
   "metadata": {}
  },
  {
   "cell_type": "code",
   "execution_count": 5,
   "source": [
    "pm = PatternMatcher(pattern=pattern)"
   ],
   "outputs": [],
   "metadata": {}
  },
  {
   "cell_type": "code",
   "execution_count": 15,
   "source": [
    "keep = \"Diagrammata/<ota>/<tomeas>/<enotita>\""
   ],
   "outputs": [],
   "metadata": {}
  },
  {
   "cell_type": "code",
   "execution_count": 16,
   "source": [
    "class PatternCopy:\r\n",
    "    def __init__(self, src:str, dst:str, pattern:PatternMatcher, create_like:str) -> None:\r\n",
    "        self.src = Path(src)\r\n",
    "        self.dst = Path(dst)\r\n",
    "        self.pattern = pattern\r\n",
    "        self.create_like = create_like\r\n",
    "\r\n",
    "    def copy_files(self, match=str):\r\n",
    "        for p in Path(src).glob(match):\r\n",
    "            parts = self.pattern.match(p.stem)\r\n",
    "            _dst = self.dst.joinpath(replace_all(self.create_like, parts))\r\n",
    "            _dst.mkdir(parents=True, exist_ok=True)\r\n",
    "            copy(p, _dst)"
   ],
   "outputs": [],
   "metadata": {}
  },
  {
   "cell_type": "code",
   "execution_count": 17,
   "source": [
    "pc = PatternCopy(src, dst, pm, keep)"
   ],
   "outputs": [],
   "metadata": {}
  },
  {
   "cell_type": "code",
   "execution_count": 18,
   "source": [
    "pc.copy_files('*.pdf')"
   ],
   "outputs": [],
   "metadata": {}
  },
  {
   "cell_type": "code",
   "execution_count": null,
   "source": [
    "pdst = Path(dst)\r\n",
    "for p in Path(src).glob('K*.pdf'):\r\n",
    "    parts = pm.match(p.stem)\r\n",
    "    go_to = pdst.joinpath(replace_all(keep, parts))\r\n",
    "    go_to.mkdir(parents=True, exist_ok=True)\r\n",
    "    copy(p, go_to)\r\n",
    "    "
   ],
   "outputs": [],
   "metadata": {}
  },
  {
   "cell_type": "code",
   "execution_count": null,
   "source": [
    "parts = pm.match(\"KD260391009004_0_0\")\r\n",
    "parts"
   ],
   "outputs": [],
   "metadata": {}
  },
  {
   "cell_type": "code",
   "execution_count": null,
   "source": [
    "replace_all(keep, parts)"
   ],
   "outputs": [],
   "metadata": {}
  },
  {
   "cell_type": "code",
   "execution_count": null,
   "source": [
    "rep = {'<ota>': '26039', '<tomeas>': '10', '<enotita>': '09', '<gt>': '004'}\r\n",
    "\r\n",
    "rep = dict((re.escape(k), v) for k, v in rep.items()) \r\n",
    "\r\n",
    "pattern = re.compile(\"|\".join(rep.keys()))\r\n",
    "text = pattern.sub(lambda m: rep[re.escape(m.group(0))], keep)"
   ],
   "outputs": [],
   "metadata": {}
  },
  {
   "cell_type": "code",
   "execution_count": null,
   "source": [
    "text"
   ],
   "outputs": [],
   "metadata": {}
  },
  {
   "cell_type": "code",
   "execution_count": null,
   "source": [
    "pattern"
   ],
   "outputs": [],
   "metadata": {}
  }
 ],
 "metadata": {
  "orig_nbformat": 4,
  "language_info": {
   "name": "python",
   "version": "3.8.10",
   "mimetype": "text/x-python",
   "codemirror_mode": {
    "name": "ipython",
    "version": 3
   },
   "pygments_lexer": "ipython3",
   "nbconvert_exporter": "python",
   "file_extension": ".py"
  },
  "kernelspec": {
   "name": "python3",
   "display_name": "Python 3.8.10 64-bit ('dsc': conda)"
  },
  "interpreter": {
   "hash": "fcbab4adb5514146ae7268d1b7ad1c19704476f96e30a8a2e4db8ed6c9938b48"
  }
 },
 "nbformat": 4,
 "nbformat_minor": 2
}